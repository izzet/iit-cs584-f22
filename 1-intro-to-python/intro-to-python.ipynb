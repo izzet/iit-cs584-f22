{
 "cells": [
  {
   "cell_type": "markdown",
   "metadata": {},
   "source": [
    "# CS584 Machine Learning Fall 2022\n",
    "\n",
    "Illinois Institute of Technology <br>\n",
    "Prof. Yan Yan (yyan34@iit.edu) <br>\n",
    "TA. Izzet Yildirim (iyildirim@hawk.iit.edu)"
   ]
  },
  {
   "cell_type": "markdown",
   "metadata": {},
   "source": [
    "## Intro to Python\n",
    "\n",
    "* Python is an easy to learn, powerful programming language.\n",
    "* It is the most preferred programming language for AI and Machine Learning. [[Reference](https://towardsdatascience.com/what-is-the-best-programming-language-for-machine-learning-a745c156d6b7#:~:text=Python%20leads%20the%20pack%2C%20with,wide%20selection%20of%20other%20libraries.)]\n",
    "* Some of the reasons why it is the most preferred programming language for AI and Machine Learning are:\n",
    "  * Easy to use and prototype - it has easier syntax and is an interpreted language [[Difference between compiled and interpreted language](https://www.geeksforgeeks.org/difference-between-compiled-and-interpreted-language/)]\n",
    "  * Huge Python community \n",
    "  * Huge AI and ML libraries ecosystem - NumPy, SciPy, Scikit-learn, Tensorflow, Keras and so on"
   ]
  },
  {
   "cell_type": "markdown",
   "metadata": {},
   "source": [
    "### Installing Python\n",
    "\n",
    "I prefer using software package managers to install Python -- which is helpful for versioning and upgrading. As of the date of this class, the latest version of Python is **3.10.7**. "
   ]
  },
  {
   "cell_type": "markdown",
   "metadata": {},
   "source": [
    "#### Installing Python on Linux"
   ]
  },
  {
   "cell_type": "markdown",
   "metadata": {},
   "source": [
    "All Linux distributions come with their package managers. For instance, if you are using Ubuntu, you can use `apt-get` command to install packages. "
   ]
  },
  {
   "cell_type": "markdown",
   "metadata": {},
   "source": [
    "```shell\n",
    "sudo apt-get install python3 # on Ubuntu\n",
    "sudo dnf install python3 # on Fedora\n",
    "```"
   ]
  },
  {
   "cell_type": "markdown",
   "metadata": {},
   "source": [
    "#### Installing Python on macOS"
   ]
  },
  {
   "cell_type": "markdown",
   "metadata": {},
   "source": [
    "You can use [Homebrew](https://brew.sh/) to install Python on macOS. "
   ]
  },
  {
   "cell_type": "markdown",
   "metadata": {},
   "source": [
    "```shell\n",
    "brew install python@3.10 # The version 3.10 is optional\n",
    "brew install python\n",
    "```"
   ]
  },
  {
   "cell_type": "markdown",
   "metadata": {},
   "source": [
    "#### Installing Python on Windows"
   ]
  },
  {
   "cell_type": "markdown",
   "metadata": {},
   "source": [
    "Windows 11 comes with a built-in package manager called `winget` but you can also use [Chocolatey](https://chocolatey.org/) as well. "
   ]
  },
  {
   "cell_type": "markdown",
   "metadata": {},
   "source": [
    "```shell\n",
    "winget install -e --id Python.Python.3\n",
    "choco install python\n",
    "```"
   ]
  },
  {
   "cell_type": "markdown",
   "metadata": {},
   "source": [
    "#### Verifying Python installation"
   ]
  },
  {
   "cell_type": "markdown",
   "metadata": {},
   "source": [
    "You can verify the Python installation by running the following command. "
   ]
  },
  {
   "cell_type": "code",
   "execution_count": 103,
   "metadata": {
    "vscode": {
     "languageId": "shellscript"
    }
   },
   "outputs": [
    {
     "name": "stdout",
     "output_type": "stream",
     "text": [
      "Python 3.10.2\n"
     ]
    }
   ],
   "source": [
    "! python --version "
   ]
  },
  {
   "cell_type": "markdown",
   "metadata": {},
   "source": [
    "### Using Python"
   ]
  },
  {
   "cell_type": "markdown",
   "metadata": {},
   "source": [
    "#### Basic Operations"
   ]
  },
  {
   "cell_type": "code",
   "execution_count": 104,
   "metadata": {},
   "outputs": [
    {
     "name": "stdout",
     "output_type": "stream",
     "text": [
      "5 + 5 = 10\n",
      "5 - 5 = 0\n",
      "3 * 5 = 15\n",
      "10 / 2 = 5.0\n",
      "18 % 7 = 4\n",
      "4 ** 2 = 16\n"
     ]
    }
   ],
   "source": [
    "# Addition, subtraction\n",
    "print(\"5 + 5 =\", 5 + 5)\n",
    "print(\"5 - 5 =\", 5 - 5)\n",
    "\n",
    "# Multiplication, division, modulo, and exponentiation\n",
    "print(\"3 * 5 =\", 3 * 5)\n",
    "print(\"10 / 2 =\", 10 / 2)\n",
    "print(\"18 % 7 =\", 18 % 7)\n",
    "print(\"4 ** 2 =\", 4 ** 2)"
   ]
  },
  {
   "cell_type": "code",
   "execution_count": 105,
   "metadata": {},
   "outputs": [
    {
     "name": "stdout",
     "output_type": "stream",
     "text": [
      "pi_float = 3.1415926\n",
      "pi_int = 3\n"
     ]
    }
   ],
   "source": [
    "# Type conversion\n",
    "pi_string = \"3.1415926\"\n",
    "pi_float = float(pi_string)\n",
    "pi_int = int(float(pi_string)) # has error\n",
    "\n",
    "print(\"pi_float =\", pi_float)\n",
    "print(\"pi_int =\", pi_int)"
   ]
  },
  {
   "cell_type": "code",
   "execution_count": 106,
   "metadata": {},
   "outputs": [
    {
     "name": "stdout",
     "output_type": "stream",
     "text": [
      "my_list = ['my', 'list', 'is', 'nice']\n",
      "basket = [['apple', 11.25], ['orange', 18.0], ['banana', 23.75]]\n"
     ]
    }
   ],
   "source": [
    "# Create a list\n",
    "a = \"is\"\n",
    "b = \"nice\"\n",
    "my_list = [\"my\", \"list\", a, b]\n",
    "print(\"my_list =\", my_list)\n",
    "\n",
    "# Create a list of list\n",
    "apple = 11.25\n",
    "orange = 18.0\n",
    "banana = 23.75\n",
    "basket = [[\"apple\", apple],\n",
    "         [\"orange\", orange],\n",
    "         [\"banana\", banana]]\n",
    "print(\"basket =\", basket)"
   ]
  },
  {
   "cell_type": "code",
   "execution_count": 107,
   "metadata": {},
   "outputs": [
    {
     "name": "stdout",
     "output_type": "stream",
     "text": [
      "my_list[1:4] = ['list', 'is', 'nice']\n",
      "my_list[:2] = ['my', 'list']\n",
      "my_list_2 = ['my', 'list', 'is', 'the best']\n",
      "my_list_3 = ['my', 'list', 'is', 'the best', 'wow!']\n",
      "my_list_3_reversed = ['wow!', 'the best', 'is', 'list', 'my']\n",
      "basket_2 = [['apple', 11.25], ['orange', 18.0], ['banana', 23.75], ['peach', 10.56]]\n",
      "basket_2 = [['apple', 11.25], ['orange', 18.0], ['peach', 10.56]]\n",
      "Length of basket_2 = 3\n"
     ]
    }
   ],
   "source": [
    "# Working with lists\n",
    "print(\"my_list[1:4] =\", my_list[1:4]) # The start index will be included, while the end index is not.\n",
    "print(\"my_list[:2] =\", my_list[:2])\n",
    "\n",
    "my_list_2 = my_list.copy() # Copy entire list into a new variable\n",
    "my_list_2[3] = \"the best\" # Change the last item of the list\n",
    "print(\"my_list_2 =\", my_list_2)\n",
    "\n",
    "my_list_3 = my_list_2 + [\"wow!\"] # Extend the list\n",
    "print(\"my_list_3 =\", my_list_3)\n",
    "\n",
    "my_list_3_reversed = list(reversed(my_list_3)) # Reverse the list\n",
    "print(\"my_list_3_reversed =\", my_list_3_reversed)\n",
    "\n",
    "basket_2 = basket + [[\"peach\", 10.56]] # Extend the list of list\n",
    "print(\"basket_2 =\", basket_2)\n",
    "\n",
    "del basket_2[2] # Delete an item\n",
    "print(\"basket_2 =\", basket_2)\n",
    "\n",
    "print(\"Length of basket_2 =\", len(basket_2)) # Length of a list"
   ]
  },
  {
   "cell_type": "markdown",
   "metadata": {},
   "source": [
    "#### Modules and Dependencies"
   ]
  },
  {
   "cell_type": "markdown",
   "metadata": {},
   "source": [
    "Python comes with tons of built-in modules such as `sys` or `math`. Third party packages (dependencies) can be installed using `pip` (Package installer for Python). "
   ]
  },
  {
   "cell_type": "markdown",
   "metadata": {},
   "source": [
    "**Importing built-in modules**"
   ]
  },
  {
   "cell_type": "code",
   "execution_count": 108,
   "metadata": {},
   "outputs": [
    {
     "name": "stdout",
     "output_type": "stream",
     "text": [
      "math.sqrt(4) = 2.0\n",
      "sqrt(4) = 2.0\n"
     ]
    }
   ],
   "source": [
    "# Import modules\n",
    "import sys\n",
    "import math\n",
    "\n",
    "# Run a function using the `math` module\n",
    "print(\"math.sqrt(4) =\", math.sqrt(4))\n",
    "\n",
    "# Selective import from modules\n",
    "from math import sqrt\n",
    "\n",
    "# Run a function using the `math` module\n",
    "print(\"sqrt(4) =\", sqrt(4))"
   ]
  },
  {
   "cell_type": "markdown",
   "metadata": {},
   "source": [
    "**Installing packages through pip**"
   ]
  },
  {
   "cell_type": "code",
   "execution_count": 109,
   "metadata": {},
   "outputs": [
    {
     "name": "stdout",
     "output_type": "stream",
     "text": [
      "Requirement already satisfied: numpy in c:\\python310\\lib\\site-packages (1.23.2)\n"
     ]
    }
   ],
   "source": [
    "# Install the NumPy package \n",
    "! pip install numpy --disable-pip-version-check"
   ]
  },
  {
   "cell_type": "markdown",
   "metadata": {},
   "source": [
    "**Importing a package**"
   ]
  },
  {
   "cell_type": "markdown",
   "metadata": {},
   "source": [
    "Both built-in modules and third party packages are imported the same way. While `import` is used to import all the functions from the module/package, `from` is used to selectively import only the desired functionality from the module/package. An imported package can be aliased by using `as` as in the example below. "
   ]
  },
  {
   "cell_type": "code",
   "execution_count": 110,
   "metadata": {},
   "outputs": [
    {
     "data": {
      "text/plain": [
       "array([0, 2, 4, 6, 8])"
      ]
     },
     "execution_count": 110,
     "metadata": {},
     "output_type": "execute_result"
    }
   ],
   "source": [
    "import numpy as np # Import NumPy using the alias `np`\n",
    "\n",
    "np.arange(0, 10, 2) # Create an array for a given range and step"
   ]
  },
  {
   "cell_type": "markdown",
   "metadata": {},
   "source": [
    "#### NumPy"
   ]
  },
  {
   "cell_type": "markdown",
   "metadata": {},
   "source": [
    "[NumPy](https://numpy.org/) is the fundamental package for array computing with Python. It provides a high-performance multidimensional array object, and tools for working with these arrays. \n",
    "\n",
    "* A powerful N-dimensional array object \n",
    "* Sophisticated (broadcasting) functions \n",
    "* Tools for integrating C/C++ and Fortran code\n",
    "* Useful linear algebra, Fourier transform, and random number capabilities"
   ]
  },
  {
   "cell_type": "code",
   "execution_count": 111,
   "metadata": {},
   "outputs": [
    {
     "name": "stdout",
     "output_type": "stream",
     "text": [
      "baseball = [180, 215, 210, 210, 188, 176, 209, 200]\n",
      "np_baseball = [180 215 210 210 188 176 209 200]\n",
      "np_baseball shape = (8,)\n",
      "np_baseball size = 8\n",
      "np_baseball dtype = int32\n"
     ]
    }
   ],
   "source": [
    "# Create list baseball\n",
    "baseball = [180, 215, 210, 210, 188, 176, 209, 200]\n",
    "\n",
    "# Convert it to a NumPy array\n",
    "np_baseball = np.array(baseball)\n",
    "\n",
    "print(\"baseball =\", baseball)\n",
    "print(\"np_baseball =\", np_baseball)\n",
    "print(\"np_baseball shape =\", np_baseball.shape)\n",
    "print(\"np_baseball size =\", np_baseball.size)\n",
    "print(\"np_baseball dtype =\", np_baseball.dtype)"
   ]
  },
  {
   "cell_type": "code",
   "execution_count": 112,
   "metadata": {},
   "outputs": [
    {
     "name": "stdout",
     "output_type": "stream",
     "text": [
      "np_baseball_times_2 = [360 430 420 420 376 352 418 400]\n",
      "np_baseball_divided_by_2 = [ 90.  107.5 105.  105.   94.   88.  104.5 100. ]\n",
      "np_baseball_divided_by_2 dtype = float64\n"
     ]
    }
   ],
   "source": [
    "# Math operations over arrays\n",
    "np_baseball_times_2 = np_baseball * 2\n",
    "np_baseball_divided_by_2 = np_baseball / 2\n",
    "\n",
    "print(\"np_baseball_times_2 =\", np_baseball_times_2)\n",
    "print(\"np_baseball_divided_by_2 =\", np_baseball_divided_by_2)\n",
    "print(\"np_baseball_divided_by_2 dtype =\", np_baseball_divided_by_2.dtype)\n",
    "\n",
    "# baseball / 2 # has error"
   ]
  },
  {
   "cell_type": "code",
   "execution_count": 113,
   "metadata": {},
   "outputs": [
    {
     "name": "stdout",
     "output_type": "stream",
     "text": [
      "baseball avg = 198.5\n",
      "baseball median = 204.5\n",
      "baseball max = 215\n",
      "baseball min = 176\n"
     ]
    }
   ],
   "source": [
    "# Create list baseball\n",
    "baseball = [180, 215, 210, 210, 188, 176, 209, 200]\n",
    "\n",
    "# Using utility functions \n",
    "print(\"baseball avg =\", np.average(baseball))\n",
    "print(\"baseball median =\", np.median(baseball))\n",
    "print(\"baseball max =\", np.max(baseball))\n",
    "print(\"baseball min =\", np.min(baseball))"
   ]
  },
  {
   "cell_type": "code",
   "execution_count": 114,
   "metadata": {},
   "outputs": [
    {
     "name": "stdout",
     "output_type": "stream",
     "text": [
      "Original array:\n",
      " [[1 2 3]\n",
      " [4 5 6]]\n",
      "\n",
      "Flattened array:\n",
      " [1 2 3 4 5 6]\n"
     ]
    }
   ],
   "source": [
    "# Flatten array\n",
    "arr = np.array([[1, 2, 3], [4, 5, 6]])\n",
    "flarr = arr.flatten()\n",
    " \n",
    "print (\"Original array:\\n\", arr)\n",
    "print (\"\\nFlattened array:\\n\", flarr)"
   ]
  },
  {
   "cell_type": "markdown",
   "metadata": {},
   "source": [
    "**Data generation via NumPy**"
   ]
  },
  {
   "cell_type": "markdown",
   "metadata": {},
   "source": [
    "NumPy provides a bunch of functions to generate AI- or ML-ready sample data. Here's the full list of the NumPy array creation routines: https://numpy.org/doc/stable/reference/routines.array-creation.html "
   ]
  },
  {
   "cell_type": "code",
   "execution_count": 115,
   "metadata": {},
   "outputs": [
    {
     "name": "stdout",
     "output_type": "stream",
     "text": [
      "A random array:\n",
      " [[0.20531822 0.84761038]\n",
      " [0.36612011 0.29997533]]\n",
      "\n",
      "A sequential array with steps of 5:\n",
      " [ 0  5 10 15 20 25]\n",
      "\n",
      "A sequential array with 10 values between 0 and 5:\n",
      " [0.         0.55555556 1.11111111 1.66666667 2.22222222 2.77777778\n",
      " 3.33333333 3.88888889 4.44444444 5.        ]\n"
     ]
    }
   ],
   "source": [
    "# Create an array with random values\n",
    "e = np.random.random((2, 2))\n",
    "print (\"A random array:\\n\", e)\n",
    " \n",
    "# Create a sequence of integers from 0 to 30 with steps of 5\n",
    "f = np.arange(0, 30, 5)\n",
    "print (\"\\nA sequential array with steps of 5:\\n\", f)\n",
    " \n",
    "# Create a sequence of 10 values in range 0 to 5\n",
    "g = np.linspace(0, 5, 10)\n",
    "print (\"\\nA sequential array with 10 values between 0 and 5:\\n\", g)"
   ]
  },
  {
   "cell_type": "markdown",
   "metadata": {},
   "source": [
    "## Machine Learning with Python"
   ]
  },
  {
   "cell_type": "markdown",
   "metadata": {},
   "source": [
    "As we iterated above, Python is the most suitable programming language for ML. [Scikit-learn](https://scikit-learn.org/stable/), [Tensorflow](https://www.tensorflow.org/), [PyTorch](https://pytorch.org/), and [Keras](https://keras.io/) are widely used libraries for AI- and ML-related applications. While Scikit-learn, Tensorflow and PyTorch are more suitable for general ML applications, Keras is tailored for Deep Learning (DL) applications. "
   ]
  },
  {
   "cell_type": "markdown",
   "metadata": {},
   "source": [
    "### Scikit-learn"
   ]
  },
  {
   "cell_type": "markdown",
   "metadata": {},
   "source": [
    "Scikit-learn is a free software machine learning library for the Python programming language. It features various classification, regression and clustering algorithms. \n",
    "\n",
    "Today, we will be focusing on multi-class classification and k-nearest neighbors algorithm using Scikit-learn. "
   ]
  },
  {
   "cell_type": "markdown",
   "metadata": {},
   "source": [
    "**First install the scikit-learn package**"
   ]
  },
  {
   "cell_type": "code",
   "execution_count": 116,
   "metadata": {},
   "outputs": [
    {
     "name": "stdout",
     "output_type": "stream",
     "text": [
      "Requirement already satisfied: scikit-learn in c:\\python310\\lib\\site-packages (1.1.2)\n",
      "Requirement already satisfied: numpy>=1.17.3 in c:\\python310\\lib\\site-packages (from scikit-learn) (1.23.2)\n",
      "Requirement already satisfied: joblib>=1.0.0 in c:\\python310\\lib\\site-packages (from scikit-learn) (1.1.0)\n",
      "Requirement already satisfied: scipy>=1.3.2 in c:\\python310\\lib\\site-packages (from scikit-learn) (1.9.1)\n",
      "Requirement already satisfied: threadpoolctl>=2.0.0 in c:\\python310\\lib\\site-packages (from scikit-learn) (3.1.0)\n"
     ]
    }
   ],
   "source": [
    "! pip install scikit-learn --disable-pip-version-check"
   ]
  },
  {
   "cell_type": "markdown",
   "metadata": {},
   "source": [
    "#### Multi-class Classification using Scikit-learn [[Source](https://jonathonbechtel.com/blog/2018/02/06/wines/)]"
   ]
  },
  {
   "cell_type": "markdown",
   "metadata": {},
   "source": [
    "We'll take a look at the [UCI Wine data](https://archive.ics.uci.edu/ml/datasets/wine), and then train a [LogisticRegression](https://scikit-learn.org/stable/modules/generated/sklearn.linear_model.LogisticRegression.html) classifier to predict wine classes using Scikit-learn."
   ]
  },
  {
   "cell_type": "markdown",
   "metadata": {},
   "source": [
    "**Load data**"
   ]
  },
  {
   "cell_type": "code",
   "execution_count": 117,
   "metadata": {},
   "outputs": [
    {
     "name": "stdout",
     "output_type": "stream",
     "text": [
      ".. _wine_dataset:\n",
      "\n",
      "Wine recognition dataset\n",
      "------------------------\n",
      "\n",
      "**Data Set Characteristics:**\n",
      "\n",
      "    :Number of Instances: 178\n",
      "    :Number of Attributes: 13 numeric, predictive attributes and the class\n",
      "    :Attribute Information:\n",
      " \t\t- Alcohol\n",
      " \t\t- Malic acid\n",
      " \t\t- Ash\n",
      "\t\t- Alcalinity of ash  \n",
      " \t\t- Magnesium\n",
      "\t\t- Total phenols\n",
      " \t\t- Flavanoids\n",
      " \t\t- Nonflavanoid phenols\n",
      " \t\t- Proanthocyanins\n",
      "\t\t- Color intensity\n",
      " \t\t- Hue\n",
      " \t\t- OD280/OD315 of diluted wines\n",
      " \t\t- Proline\n",
      "\n",
      "    - class:\n",
      "            - class_0\n",
      "            - class_1\n",
      "            - class_2\n",
      "\t\t\n",
      "    :Summary Statistics:\n",
      "    \n",
      "    ============================= ==== ===== ======= =====\n",
      "                                   Min   Max   Mean     SD\n",
      "    ============================= ==== ===== ======= =====\n",
      "    Alcohol:                      11.0  14.8    13.0   0.8\n",
      "    Malic Acid:                   0.74  5.80    2.34  1.12\n",
      "    Ash:                          1.36  3.23    2.36  0.27\n",
      "    Alcalinity of Ash:            10.6  30.0    19.5   3.3\n",
      "    Magnesium:                    70.0 162.0    99.7  14.3\n",
      "    Total Phenols:                0.98  3.88    2.29  0.63\n",
      "    Flavanoids:                   0.34  5.08    2.03  1.00\n",
      "    Nonflavanoid Phenols:         0.13  0.66    0.36  0.12\n",
      "    Proanthocyanins:              0.41  3.58    1.59  0.57\n",
      "    Colour Intensity:              1.3  13.0     5.1   2.3\n",
      "    Hue:                          0.48  1.71    0.96  0.23\n",
      "    OD280/OD315 of diluted wines: 1.27  4.00    2.61  0.71\n",
      "    Proline:                       278  1680     746   315\n",
      "    ============================= ==== ===== ======= =====\n",
      "\n",
      "    :Missing Attribute Values: None\n",
      "    :Class Distribution: class_0 (59), class_1 (71), class_2 (48)\n",
      "    :Creator: R.A. Fisher\n",
      "    :Donor: Michael Marshall (MARSHALL%PLU@io.arc.nasa.gov)\n",
      "    :Date: July, 1988\n",
      "\n",
      "This is a copy of UCI ML Wine recognition datasets.\n",
      "https://archive.ics.uci.edu/ml/machine-learning-databases/wine/wine.data\n",
      "\n",
      "The data is the results of a chemical analysis of wines grown in the same\n",
      "region in Italy by three different cultivators. There are thirteen different\n",
      "measurements taken for different constituents found in the three types of\n",
      "wine.\n",
      "\n",
      "Original Owners: \n",
      "\n",
      "Forina, M. et al, PARVUS - \n",
      "An Extendible Package for Data Exploration, Classification and Correlation. \n",
      "Institute of Pharmaceutical and Food Analysis and Technologies,\n",
      "Via Brigata Salerno, 16147 Genoa, Italy.\n",
      "\n",
      "Citation:\n",
      "\n",
      "Lichman, M. (2013). UCI Machine Learning Repository\n",
      "[https://archive.ics.uci.edu/ml]. Irvine, CA: University of California,\n",
      "School of Information and Computer Science. \n",
      "\n",
      ".. topic:: References\n",
      "\n",
      "  (1) S. Aeberhard, D. Coomans and O. de Vel, \n",
      "  Comparison of Classifiers in High Dimensional Settings, \n",
      "  Tech. Rep. no. 92-02, (1992), Dept. of Computer Science and Dept. of  \n",
      "  Mathematics and Statistics, James Cook University of North Queensland. \n",
      "  (Also submitted to Technometrics). \n",
      "\n",
      "  The data was used with many others for comparing various \n",
      "  classifiers. The classes are separable, though only RDA \n",
      "  has achieved 100% correct classification. \n",
      "  (RDA : 100%, QDA 99.4%, LDA 98.9%, 1NN 96.1% (z-transformed data)) \n",
      "  (All results using the leave-one-out technique) \n",
      "\n",
      "  (2) S. Aeberhard, D. Coomans and O. de Vel, \n",
      "  \"THE CLASSIFICATION PERFORMANCE OF RDA\" \n",
      "  Tech. Rep. no. 92-01, (1992), Dept. of Computer Science and Dept. of \n",
      "  Mathematics and Statistics, James Cook University of North Queensland. \n",
      "  (Also submitted to Journal of Chemometrics).\n",
      "\n"
     ]
    }
   ],
   "source": [
    "# Selectively import `load_wine` from sklearn.datasets\n",
    "from sklearn.datasets import load_wine\n",
    "\n",
    "# Load wine data\n",
    "raw_wine_data = load_wine()\n",
    "\n",
    "# Describe data\n",
    "print(raw_wine_data['DESCR'])"
   ]
  },
  {
   "cell_type": "markdown",
   "metadata": {},
   "source": [
    "**Split data**"
   ]
  },
  {
   "cell_type": "markdown",
   "metadata": {},
   "source": [
    "In order to effectively train and test our model, we need to separate the data into a training set which we will feed to our model along the the training labels. Then after we have trained the model, we will test it on the 'test' data, so that we can gauge the real-world applicability of the model."
   ]
  },
  {
   "cell_type": "code",
   "execution_count": 118,
   "metadata": {},
   "outputs": [
    {
     "name": "stdout",
     "output_type": "stream",
     "text": [
      "Samples in data before splitting = 178 \n",
      "Samples in training data = 142 \n",
      "Samples in test data = 36\n"
     ]
    }
   ],
   "source": [
    "# Selectively import `train_test_split` from sklearn.model_selection\n",
    "from sklearn.model_selection import train_test_split\n",
    "\n",
    "# Split data into 80% train and 20% test data\n",
    "wine_data_train, wine_data_test, wine_label_train, wine_label_test = train_test_split(raw_wine_data['data'], raw_wine_data['target'], test_size=0.2)\n",
    "\n",
    "# Print data stats\n",
    "print(\"Samples in data before splitting =\", len(raw_wine_data['data']),\n",
    "      \"\\nSamples in training data =\", len(wine_data_train),\n",
    "      \"\\nSamples in test data =\", len(wine_data_test)) "
   ]
  },
  {
   "cell_type": "markdown",
   "metadata": {},
   "source": [
    "**Fit LogisticRegression classifier**"
   ]
  },
  {
   "cell_type": "markdown",
   "metadata": {},
   "source": [
    "Scikit-learn provides many classification algorithms to choose through, but we will go with the LogisticRegression classifier for today's session. A good approach would be going over all types of classifiers so we could see the differences in the results they produce. \n",
    "\n",
    "The `fit` method basically trains your model using the dataset you provided. "
   ]
  },
  {
   "cell_type": "code",
   "execution_count": 119,
   "metadata": {},
   "outputs": [],
   "source": [
    "# Selectively import `LogisticRegression` from sklearn.linear_model\n",
    "from sklearn.linear_model import LogisticRegression\n",
    "\n",
    "# Initialize classifier\n",
    "wine_clf = LogisticRegression(max_iter=5000)\n",
    "\n",
    "# Fit classifier & create model \n",
    "wine_model = wine_clf.fit(X=wine_data_train, y=wine_label_train)"
   ]
  },
  {
   "cell_type": "markdown",
   "metadata": {},
   "source": [
    "**Predict wine classes using the LogisticRegression model**"
   ]
  },
  {
   "cell_type": "markdown",
   "metadata": {},
   "source": [
    "Once the training is done, the model can be used to make predictions on the test data (unseen data) using the `predict` method. "
   ]
  },
  {
   "cell_type": "code",
   "execution_count": 120,
   "metadata": {},
   "outputs": [
    {
     "name": "stdout",
     "output_type": "stream",
     "text": [
      "Expected wine classes =\n",
      " [0 2 0 2 0 0 0 0 2 0 0 2 2 1 1 0 0 0 1 1 0 2 2 0 2 1 1 1 1 1 0 1 2 0 2 1]\n",
      "Predicted wine classes =\n",
      " [0 2 0 2 0 0 0 0 2 0 0 2 2 1 1 0 0 0 1 1 0 2 2 0 2 1 1 1 1 1 0 1 2 0 2 1]\n"
     ]
    }
   ],
   "source": [
    "# Make predictions \n",
    "wine_pred_test = wine_model.predict(wine_data_test)\n",
    "\n",
    "print(\"Expected wine classes =\\n\", wine_label_test)\n",
    "print(\"Predicted wine classes =\\n\", wine_pred_test)"
   ]
  },
  {
   "cell_type": "markdown",
   "metadata": {},
   "source": [
    "**Check the accuracy of the predictions**"
   ]
  },
  {
   "cell_type": "markdown",
   "metadata": {},
   "source": [
    "Comparing the predicted labels with the expected ones could be extremely difficult when the dataset is too large (and it often is). Scikit-learn also provides functions such as `accuracy` to check the accuracy of the predictions. "
   ]
  },
  {
   "cell_type": "code",
   "execution_count": 121,
   "metadata": {},
   "outputs": [
    {
     "name": "stdout",
     "output_type": "stream",
     "text": [
      "Accuracy of the predictions = % 100.0\n"
     ]
    }
   ],
   "source": [
    "# Selectively import `accuracy_score` from sklearn.metrics\n",
    "from sklearn.metrics import accuracy_score \n",
    "\n",
    "# Calculate the accuracy\n",
    "wine_acc = accuracy_score(wine_label_test, wine_pred_test)\n",
    "\n",
    "# Print the accuracy\n",
    "print(\"Accuracy of the predictions = %\", wine_acc * 100.0)"
   ]
  },
  {
   "cell_type": "markdown",
   "metadata": {},
   "source": [
    "#### K-nearest neighbors algorithm using Scikit-learn "
   ]
  },
  {
   "cell_type": "markdown",
   "metadata": {},
   "source": [
    "We'll take a look at the [IRIS dataset](https://archive.ics.uci.edu/ml/datasets/iris), and then train a [KNeighborsClassifier](https://scikit-learn.org/stable/modules/generated/sklearn.neighbors.KNeighborsClassifier.html) classifier to predict plant classes using Scikit-learn."
   ]
  },
  {
   "cell_type": "markdown",
   "metadata": {},
   "source": [
    "**Load data**"
   ]
  },
  {
   "cell_type": "code",
   "execution_count": 122,
   "metadata": {},
   "outputs": [
    {
     "name": "stdout",
     "output_type": "stream",
     "text": [
      ".. _iris_dataset:\n",
      "\n",
      "Iris plants dataset\n",
      "--------------------\n",
      "\n",
      "**Data Set Characteristics:**\n",
      "\n",
      "    :Number of Instances: 150 (50 in each of three classes)\n",
      "    :Number of Attributes: 4 numeric, predictive attributes and the class\n",
      "    :Attribute Information:\n",
      "        - sepal length in cm\n",
      "        - sepal width in cm\n",
      "        - petal length in cm\n",
      "        - petal width in cm\n",
      "        - class:\n",
      "                - Iris-Setosa\n",
      "                - Iris-Versicolour\n",
      "                - Iris-Virginica\n",
      "                \n",
      "    :Summary Statistics:\n",
      "\n",
      "    ============== ==== ==== ======= ===== ====================\n",
      "                    Min  Max   Mean    SD   Class Correlation\n",
      "    ============== ==== ==== ======= ===== ====================\n",
      "    sepal length:   4.3  7.9   5.84   0.83    0.7826\n",
      "    sepal width:    2.0  4.4   3.05   0.43   -0.4194\n",
      "    petal length:   1.0  6.9   3.76   1.76    0.9490  (high!)\n",
      "    petal width:    0.1  2.5   1.20   0.76    0.9565  (high!)\n",
      "    ============== ==== ==== ======= ===== ====================\n",
      "\n",
      "    :Missing Attribute Values: None\n",
      "    :Class Distribution: 33.3% for each of 3 classes.\n",
      "    :Creator: R.A. Fisher\n",
      "    :Donor: Michael Marshall (MARSHALL%PLU@io.arc.nasa.gov)\n",
      "    :Date: July, 1988\n",
      "\n",
      "The famous Iris database, first used by Sir R.A. Fisher. The dataset is taken\n",
      "from Fisher's paper. Note that it's the same as in R, but not as in the UCI\n",
      "Machine Learning Repository, which has two wrong data points.\n",
      "\n",
      "This is perhaps the best known database to be found in the\n",
      "pattern recognition literature.  Fisher's paper is a classic in the field and\n",
      "is referenced frequently to this day.  (See Duda & Hart, for example.)  The\n",
      "data set contains 3 classes of 50 instances each, where each class refers to a\n",
      "type of iris plant.  One class is linearly separable from the other 2; the\n",
      "latter are NOT linearly separable from each other.\n",
      "\n",
      ".. topic:: References\n",
      "\n",
      "   - Fisher, R.A. \"The use of multiple measurements in taxonomic problems\"\n",
      "     Annual Eugenics, 7, Part II, 179-188 (1936); also in \"Contributions to\n",
      "     Mathematical Statistics\" (John Wiley, NY, 1950).\n",
      "   - Duda, R.O., & Hart, P.E. (1973) Pattern Classification and Scene Analysis.\n",
      "     (Q327.D83) John Wiley & Sons.  ISBN 0-471-22361-1.  See page 218.\n",
      "   - Dasarathy, B.V. (1980) \"Nosing Around the Neighborhood: A New System\n",
      "     Structure and Classification Rule for Recognition in Partially Exposed\n",
      "     Environments\".  IEEE Transactions on Pattern Analysis and Machine\n",
      "     Intelligence, Vol. PAMI-2, No. 1, 67-71.\n",
      "   - Gates, G.W. (1972) \"The Reduced Nearest Neighbor Rule\".  IEEE Transactions\n",
      "     on Information Theory, May 1972, 431-433.\n",
      "   - See also: 1988 MLC Proceedings, 54-64.  Cheeseman et al\"s AUTOCLASS II\n",
      "     conceptual clustering system finds 3 classes in the data.\n",
      "   - Many, many more ...\n"
     ]
    }
   ],
   "source": [
    "# Selectively import `load_iris` from sklearn.datasets\n",
    "from sklearn.datasets import load_iris\n",
    "\n",
    "# Load IRIS data\n",
    "raw_iris_data = load_iris()\n",
    "\n",
    "# Describe data\n",
    "print(raw_iris_data['DESCR'])"
   ]
  },
  {
   "cell_type": "markdown",
   "metadata": {},
   "source": [
    "**Visualize data**"
   ]
  },
  {
   "cell_type": "markdown",
   "metadata": {},
   "source": [
    "[Matplotlib](https://matplotlib.org/) is one the most used library for creating static, animated, and interactive visualizations in Python. We'll use it to visualize the dataset and its classes. "
   ]
  },
  {
   "cell_type": "code",
   "execution_count": 123,
   "metadata": {
    "vscode": {
     "languageId": "shellscript"
    }
   },
   "outputs": [
    {
     "name": "stdout",
     "output_type": "stream",
     "text": [
      "Requirement already satisfied: matplotlib in c:\\users\\izzet yildirim\\appdata\\roaming\\python\\python310\\site-packages (3.5.3)\n",
      "Requirement already satisfied: cycler>=0.10 in c:\\users\\izzet yildirim\\appdata\\roaming\\python\\python310\\site-packages (from matplotlib) (0.11.0)\n",
      "Requirement already satisfied: pillow>=6.2.0 in c:\\python310\\lib\\site-packages (from matplotlib) (9.2.0)\n",
      "Requirement already satisfied: kiwisolver>=1.0.1 in c:\\python310\\lib\\site-packages (from matplotlib) (1.4.4)\n",
      "Requirement already satisfied: python-dateutil>=2.7 in c:\\users\\izzet yildirim\\appdata\\roaming\\python\\python310\\site-packages (from matplotlib) (2.8.2)\n",
      "Requirement already satisfied: numpy>=1.17 in c:\\python310\\lib\\site-packages (from matplotlib) (1.23.2)\n",
      "Requirement already satisfied: fonttools>=4.22.0 in c:\\python310\\lib\\site-packages (from matplotlib) (4.37.1)\n",
      "Requirement already satisfied: pyparsing>=2.2.1 in c:\\users\\izzet yildirim\\appdata\\roaming\\python\\python310\\site-packages (from matplotlib) (3.0.9)\n",
      "Requirement already satisfied: packaging>=20.0 in c:\\users\\izzet yildirim\\appdata\\roaming\\python\\python310\\site-packages (from matplotlib) (21.3)\n",
      "Requirement already satisfied: six>=1.5 in c:\\users\\izzet yildirim\\appdata\\roaming\\python\\python310\\site-packages (from python-dateutil>=2.7->matplotlib) (1.16.0)\n"
     ]
    }
   ],
   "source": [
    "! pip install matplotlib --disable-pip-version-check --user"
   ]
  },
  {
   "cell_type": "code",
   "execution_count": 124,
   "metadata": {},
   "outputs": [
    {
     "data": {
      "image/png": "[encoded data removed]",
      "text/plain": [
       "<Figure size 600x400 with 2 Axes>"
      ]
     },
     "metadata": {},
     "output_type": "display_data"
    }
   ],
   "source": [
    "# Import PyPlot from Matplotlib\n",
    "import matplotlib.pyplot as plt\n",
    "\n",
    "# The indices of the features that we are plotting\n",
    "x_index = 0\n",
    "y_index = 1\n",
    "\n",
    "# this formatter will label the colorbar with the correct target names\n",
    "formatter = plt.FuncFormatter(lambda i, *args: raw_iris_data.target_names[int(i)])\n",
    "\n",
    "# Build plot\n",
    "plt.figure(figsize=(6, 4))\n",
    "plt.scatter(raw_iris_data.data[:, x_index], raw_iris_data.data[:, y_index], c=raw_iris_data.target)\n",
    "plt.colorbar(ticks=[0, 1, 2], format=formatter)\n",
    "plt.xlabel(raw_iris_data.feature_names[x_index])\n",
    "plt.ylabel(raw_iris_data.feature_names[y_index])\n",
    "\n",
    "# Show plot\n",
    "plt.tight_layout()\n",
    "plt.show()"
   ]
  },
  {
   "cell_type": "markdown",
   "metadata": {},
   "source": [
    "**Split data**"
   ]
  },
  {
   "cell_type": "code",
   "execution_count": 125,
   "metadata": {},
   "outputs": [
    {
     "name": "stdout",
     "output_type": "stream",
     "text": [
      "Samples in data before splitting = 150 \n",
      "Samples in training data = 105 \n",
      "Samples in test data = 45\n"
     ]
    }
   ],
   "source": [
    "# Split data into 70% train and 30% test data\n",
    "iris_data_train, iris_data_test, iris_label_train, iris_label_test = train_test_split(raw_iris_data['data'], raw_iris_data['target'], test_size=0.3)\n",
    "\n",
    "# Print data stats\n",
    "print(\"Samples in data before splitting =\", len(raw_iris_data['data']),\n",
    "      \"\\nSamples in training data =\", len(iris_data_train),\n",
    "      \"\\nSamples in test data =\", len(iris_data_test)) "
   ]
  },
  {
   "cell_type": "markdown",
   "metadata": {},
   "source": [
    "**Fit KNeighborsClassifier classifier**"
   ]
  },
  {
   "cell_type": "code",
   "execution_count": 126,
   "metadata": {},
   "outputs": [],
   "source": [
    "# Selectively import `KNeighborsClassifier` from sklearn.neighbors\n",
    "from sklearn.neighbors import KNeighborsClassifier\n",
    "\n",
    "# Number of classes - In this case, we have three classes: Iris-Setosa, Iris-Versicolour, Iris-Virginica\n",
    "n_classes = 3\n",
    "\n",
    "# Initialize classifier\n",
    "iris_knn = KNeighborsClassifier(n_neighbors=n_classes)\n",
    "\n",
    "# Fit classifier & create model \n",
    "iris_model = iris_knn.fit(X=iris_data_train, y=iris_label_train)"
   ]
  },
  {
   "cell_type": "markdown",
   "metadata": {},
   "source": [
    "**Predict wine classes using the KNeighborsClassifier model**"
   ]
  },
  {
   "cell_type": "code",
   "execution_count": 127,
   "metadata": {},
   "outputs": [
    {
     "name": "stdout",
     "output_type": "stream",
     "text": [
      "Expected wine classes =\n",
      " [2 2 2 2 1 2 1 1 1 2 2 0 2 2 0 2 0 1 0 0 1 2 0 1 2 0 2 1 2 2 1 2 2 0 2 0 0\n",
      " 1 1 0 0 2 1 2 1]\n",
      "Predicted wine classes =\n",
      " [2 2 1 2 1 2 1 2 1 2 2 0 2 2 0 2 0 1 0 0 1 2 0 2 1 0 2 1 2 2 1 1 2 0 2 0 0\n",
      " 1 1 0 0 2 1 1 1]\n"
     ]
    }
   ],
   "source": [
    "# Make predictions \n",
    "iris_pred_test = iris_model.predict(iris_data_test)\n",
    "\n",
    "print(\"Expected wine classes =\\n\", iris_label_test)\n",
    "print(\"Predicted wine classes =\\n\", iris_pred_test)"
   ]
  },
  {
   "cell_type": "markdown",
   "metadata": {},
   "source": [
    "**Check the accuracy of the predictions**"
   ]
  },
  {
   "cell_type": "code",
   "execution_count": 128,
   "metadata": {},
   "outputs": [
    {
     "name": "stdout",
     "output_type": "stream",
     "text": [
      "Accuracy of the predictions = % 86.66666666666667\n"
     ]
    }
   ],
   "source": [
    "# Calculate the accuracy\n",
    "iris_acc = accuracy_score(iris_label_test, iris_pred_test)\n",
    "\n",
    "# Print the accuracy\n",
    "print(\"Accuracy of the predictions = %\", iris_acc * 100.0)"
   ]
  }
 ],
 "metadata": {
  "kernelspec": {
   "display_name": "Python 3.10.2 64-bit",
   "language": "python",
   "name": "python3"
  },
  "language_info": {
   "codemirror_mode": {
    "name": "ipython",
    "version": 3
   },
   "file_extension": ".py",
   "mimetype": "text/x-python",
   "name": "python",
   "nbconvert_exporter": "python",
   "pygments_lexer": "ipython3",
   "version": "3.10.2"
  },
  "orig_nbformat": 4,
  "vscode": {
   "interpreter": {
    "hash": "369f2c481f4da34e4445cda3fffd2e751bd1c4d706f27375911949ba6bb62e1c"
   }
  }
 },
 "nbformat": 4,
 "nbformat_minor": 2
}
